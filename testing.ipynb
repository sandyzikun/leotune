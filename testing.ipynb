{
 "cells": [
  {
   "cell_type": "code",
   "execution_count": null,
   "id": "0bc5c691",
   "metadata": {},
   "outputs": [],
   "source": [
    "import leotune"
   ]
  },
  {
   "cell_type": "code",
   "execution_count": null,
   "metadata": {},
   "outputs": [],
   "source": [
    "for _ in leotune.data.leoneed.lyrics:\n",
    "    leotune.lrc.display(_)"
   ]
  },
  {
   "cell_type": "code",
   "execution_count": null,
   "id": "e1b0fcdf",
   "metadata": {},
   "outputs": [],
   "source": [
    "for _ in leotune.data.others.lyrics:\n",
    "    leotune.lrc.display(_)"
   ]
  },
  {
   "cell_type": "code",
   "execution_count": null,
   "id": "78fbde55",
   "metadata": {},
   "outputs": [],
   "source": [
    "for _ in leotune.data.acgnjrock.lyrics:\n",
    "    leotune.lrc.display(_)"
   ]
  }
 ],
 "metadata": {
  "interpreter": {
   "hash": "181bd7ca655232463bf2f02d70ca9bafd8456558375f780a40aee5457532ad22"
  },
  "kernelspec": {
   "display_name": "Python 3.9.0 ('xarray': conda)",
   "language": "python",
   "name": "python3"
  },
  "language_info": {
   "codemirror_mode": {
    "name": "ipython",
    "version": 3
   },
   "file_extension": ".py",
   "mimetype": "text/x-python",
   "name": "python",
   "nbconvert_exporter": "python",
   "pygments_lexer": "ipython3",
   "version": "3.9.0"
  },
  "vscode": {
   "interpreter": {
    "hash": "181bd7ca655232463bf2f02d70ca9bafd8456558375f780a40aee5457532ad22"
   }
  }
 },
 "nbformat": 4,
 "nbformat_minor": 5
}
